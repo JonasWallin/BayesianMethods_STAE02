{
 "cells": [
  {
   "cell_type": "markdown",
   "metadata": {},
   "source": [
    "## Binomial prior example using R"
   ]
  },
  {
   "cell_type": "markdown",
   "metadata": {},
   "source": [
    "we start with defining our prior:"
   ]
  },
  {
   "cell_type": "code",
   "execution_count": null,
   "metadata": {
    "collapsed": true
   },
   "outputs": [],
   "source": [
    "Theta   <- c(0,0.5, 1) # the state space (i.e the domain of theta)\n",
    "P_Theta = rep(1,3)/3   # unormalised prior"
   ]
  },
  {
   "cell_type": "code",
   "execution_count": null,
   "metadata": {
    "collapsed": false
   },
   "outputs": [],
   "source": [
    "#view the variables\n",
    "print(Theta)\n",
    "print(P_Theta)"
   ]
  },
  {
   "cell_type": "markdown",
   "metadata": {},
   "source": [
    "We denote tail by 1 and head with 0. "
   ]
  },
  {
   "cell_type": "code",
   "execution_count": null,
   "metadata": {
    "collapsed": false
   },
   "outputs": [],
   "source": [
    "coin_toss <- c(0,0,0,0,0,1)\n",
    "print(coin_toss)"
   ]
  },
  {
   "cell_type": "markdown",
   "metadata": {},
   "source": [
    "The distribution of number of tails, $Y$, of $n$ coin tosses has a **Binomial distribution** with probability $\\theta$. That is\n",
    "$\n",
    "Y \\sim Bin(n,\\theta).\n",
    "$"
   ]
  },
  {
   "cell_type": "code",
   "execution_count": null,
   "metadata": {
    "collapsed": false
   },
   "outputs": [],
   "source": [
    "Y <- sum(coin_toss)\n",
    "n <- length(coin_toss)"
   ]
  },
  {
   "cell_type": "markdown",
   "metadata": {},
   "source": [
    "To apply Bayes theorem we need the conditional distribution of $P(Y|\\theta,n)$, since Y has Binomial distribution this is equal to\n",
    "$$\n",
    "P(Y|\\theta,n) = \\binom{n}{Y} \\theta^Y (1-\\theta)^{n- Y}.\n",
    "$$\n",
    "This is very easily caculated in R:"
   ]
  },
  {
   "cell_type": "code",
   "execution_count": null,
   "metadata": {
    "collapsed": false
   },
   "outputs": [],
   "source": [
    "theta <- 0.5 # set a value of the\n",
    "PYtheta <- dbinom(x = Y, size = n, prob  =theta)\n",
    "print(PYtheta)"
   ]
  },
  {
   "cell_type": "markdown",
   "metadata": {},
   "source": [
    "This means that there is a 0.093 probability of observing $Y$ tails with $n$ coin toss if the probabilility of tail is $\\theta = 0.5$"
   ]
  },
  {
   "cell_type": "markdown",
   "metadata": {},
   "source": [
    "Let us now use Bayes rule to caculate the posterior distribution of $\\theta$:"
   ]
  },
  {
   "cell_type": "code",
   "execution_count": null,
   "metadata": {
    "collapsed": true
   },
   "outputs": [],
   "source": [
    "likelihood <- dbinom(x = Y, size = n, prob  =Theta) # one can put in Prob as a vector in dbinom\n",
    "posterior <- likelihood * P_Theta / sum(likelihood * P_Theta)"
   ]
  },
  {
   "cell_type": "code",
   "execution_count": null,
   "metadata": {
    "collapsed": false
   },
   "outputs": [],
   "source": [
    "barplot( height   = posterior,\n",
    "         names.ar = paste(\"theta=\",Theta),\n",
    "         ylab     = \"posterior\")"
   ]
  },
  {
   "cell_type": "markdown",
   "metadata": {},
   "source": [
    "Let us examin what is happning:\n",
    "We first evalute the likelihood as a function of $\\theta$ (note that this is note a probability distribution)"
   ]
  },
  {
   "cell_type": "code",
   "execution_count": null,
   "metadata": {
    "collapsed": false
   },
   "outputs": [],
   "source": [
    "options(repr.plot.width=4, repr.plot.height=3)\n",
    "barplot( height   = P_Theta,\n",
    "         names.ar = paste(\"theta=\",Theta),\n",
    "         ylab     = \"prior\")"
   ]
  },
  {
   "cell_type": "markdown",
   "metadata": {},
   "source": [
    "Then we evalute the likelihood as a function of $\\theta$ (note that this is note a probability distribution)"
   ]
  },
  {
   "cell_type": "code",
   "execution_count": null,
   "metadata": {
    "collapsed": false
   },
   "outputs": [],
   "source": [
    "options(repr.plot.width=4, repr.plot.height=3)\n",
    "barplot( height   = likelihood,\n",
    "         names.ar = paste(\"theta=\",Theta),\n",
    "         ylab     = \"likelihood\")"
   ]
  },
  {
   "cell_type": "markdown",
   "metadata": {},
   "source": [
    "Suppose we belive that some more values than 0,0.5,1 are possible. \n",
    "We set the prior:\n",
    "$$\n",
    "\\pi(\\theta)  \\propto 0.5 - |\\theta-0.5|\n",
    "$$\n",
    "For  $\\theta = 0,0.1,0.2,\\ldots,1.$"
   ]
  },
  {
   "cell_type": "code",
   "execution_count": null,
   "metadata": {
    "collapsed": false
   },
   "outputs": [],
   "source": [
    "Theta   <- seq(0,1, length = 10) \n",
    "P_Theta =  0.5 - abs(0.5 - Theta)  # unormalised prior\n",
    "print(Theta)"
   ]
  },
  {
   "cell_type": "markdown",
   "metadata": {},
   "source": [
    "For the prior to be a proper probabilility distribution it needs to integrate to one:"
   ]
  },
  {
   "cell_type": "code",
   "execution_count": null,
   "metadata": {
    "collapsed": false
   },
   "outputs": [],
   "source": [
    "P_Theta = P_Theta/sum(P_Theta)\n",
    "print(P_Theta)"
   ]
  },
  {
   "cell_type": "code",
   "execution_count": null,
   "metadata": {
    "collapsed": false
   },
   "outputs": [],
   "source": [
    "barplot( height   = P_Theta,\n",
    "         xlab     = \"theta\",\n",
    "         ylab     = \"prior\")"
   ]
  },
  {
   "cell_type": "code",
   "execution_count": null,
   "metadata": {
    "collapsed": false
   },
   "outputs": [],
   "source": [
    "likelihood <- dbinom(x = Y, size = n, prob  =Theta) # one can put in Prob as a vector in dbinom\n",
    "barplot( height   = likelihood,\n",
    "         xlab     = \"theta\",\n",
    "         ylab     = \"likelihood\")"
   ]
  },
  {
   "cell_type": "code",
   "execution_count": null,
   "metadata": {
    "collapsed": false
   },
   "outputs": [],
   "source": [
    "posterior <- likelihood * P_Theta / sum(likelihood * P_Theta)\n",
    "barplot( height   = posterior,\n",
    "         xlab     = \"theta\",\n",
    "         ylab     = \"posterior\")"
   ]
  },
  {
   "cell_type": "code",
   "execution_count": null,
   "metadata": {
    "collapsed": false
   },
   "outputs": [],
   "source": [
    "Theta   <- seq(0,1, length = 2000) \n",
    "P_Theta =  0.5 - abs(0.5 - Theta)  # unormalised prior\n",
    "P_Theta = P_Theta/sum(P_Theta)\n",
    "likelihood <- dbinom(x = Y, size = n, prob  =Theta) # one can put in Prob as a vector in dbinom\n",
    "posterior <- likelihood * P_Theta / sum(likelihood * P_Theta)\n",
    "barplot( height   = posterior,\n",
    "         xlab      = \"theta\",\n",
    "         ylab     = \"posterior\")"
   ]
  },
  {
   "cell_type": "markdown",
   "metadata": {},
   "source": [
    "## Taking more and more increment we get closer and closer to a continous distribution"
   ]
  },
  {
   "cell_type": "markdown",
   "metadata": {},
   "source": [
    " \n",
    " \n",
    " \n",
    " \n",
    " \n",
    " \n",
    " \n",
    " "
   ]
  },
  {
   "cell_type": "markdown",
   "metadata": {},
   "source": [
    " "
   ]
  },
  {
   "cell_type": "markdown",
   "metadata": {},
   "source": [
    " "
   ]
  },
  {
   "cell_type": "code",
   "execution_count": null,
   "metadata": {
    "collapsed": false
   },
   "outputs": [],
   "source": [
    " Prior <- function(theta){ return(0.5 - abs(0.5 - theta)) }"
   ]
  },
  {
   "cell_type": "markdown",
   "metadata": {},
   "source": [
    "As with discrete distribution we ned it to sum to one ( integrate to one)\n",
    "$$\\int_0^1 \\pi(\\theta) d\\theta= 1.$$"
   ]
  },
  {
   "cell_type": "code",
   "execution_count": null,
   "metadata": {
    "collapsed": false
   },
   "outputs": [],
   "source": [
    "integrate(Prior, lower = 0 , upper = 1)\n",
    "Prior_norm <- function(theta){ return(4*(0.5 - abs(0.5 - theta))) }"
   ]
  },
  {
   "cell_type": "code",
   "execution_count": null,
   "metadata": {
    "collapsed": false
   },
   "outputs": [],
   "source": [
    "Theta   <- seq(0,1, length = 1000) \n",
    "plot(Theta, \n",
    "     Prior_norm(Theta), \n",
    "     xlab = \"theta\",\n",
    "     ylab = \"prior\",\n",
    "     type = 'l')"
   ]
  },
  {
   "cell_type": "code",
   "execution_count": null,
   "metadata": {
    "collapsed": false
   },
   "outputs": [],
   "source": [
    "Posterior <- function(theta){dbinom(x = Y, size = n, prob  =theta) * Prior(theta)}\n",
    "integrate(Posterior, lower = 0 , upper = 1)"
   ]
  },
  {
   "cell_type": "code",
   "execution_count": null,
   "metadata": {
    "collapsed": true
   },
   "outputs": [],
   "source": [
    "Posterior_norm <- function(theta){dbinom(x = Y, size = n, prob  =theta) * Prior(theta)/0.1372768}"
   ]
  },
  {
   "cell_type": "code",
   "execution_count": null,
   "metadata": {
    "collapsed": false
   },
   "outputs": [],
   "source": [
    "plot(Theta, \n",
    "     Posterior_norm(Theta), \n",
    "     xlab = \"theta\",\n",
    "     ylab = \"posterior\",\n",
    "     type = 'l')"
   ]
  },
  {
   "cell_type": "markdown",
   "metadata": {},
   "source": [
    "Note to get the shape of posterior we don't need the normalising constant (the value so that the density integrates to one)."
   ]
  },
  {
   "cell_type": "code",
   "execution_count": null,
   "metadata": {
    "collapsed": false
   },
   "outputs": [],
   "source": [
    "plot(Theta, \n",
    "     Posterior(Theta), \n",
    "     xlab = \"theta\",\n",
    "     ylab = \"posterior\",\n",
    "     type = 'l')"
   ]
  },
  {
   "cell_type": "code",
   "execution_count": null,
   "metadata": {
    "collapsed": true
   },
   "outputs": [],
   "source": []
  },
  {
   "cell_type": "code",
   "execution_count": null,
   "metadata": {
    "collapsed": true
   },
   "outputs": [],
   "source": []
  }
 ],
 "metadata": {
  "kernelspec": {
   "display_name": "R",
   "language": "R",
   "name": "ir"
  },
  "language_info": {
   "codemirror_mode": "r",
   "file_extension": ".r",
   "mimetype": "text/x-r-source",
   "name": "R",
   "pygments_lexer": "r",
   "version": "3.3.1"
  }
 },
 "nbformat": 4,
 "nbformat_minor": 1
}
