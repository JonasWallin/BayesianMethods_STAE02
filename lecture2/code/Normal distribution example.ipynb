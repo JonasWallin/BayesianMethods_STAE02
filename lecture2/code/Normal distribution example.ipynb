{
 "cells": [
  {
   "cell_type": "markdown",
   "metadata": {},
   "source": [
    "## Normal and Multivariate Normal in R"
   ]
  },
  {
   "cell_type": "markdown",
   "metadata": {},
   "source": [
    "The thing that makes R very popular is the vast number of opensource packages that is aviable, and easily installed.\n",
    "We will start with installing a couplte of packages that we will use:"
   ]
  },
  {
   "cell_type": "code",
   "execution_count": null,
   "metadata": {
    "collapsed": false
   },
   "outputs": [],
   "source": [
    "#install.packages(\"NHANES\") # NHANES is survey data collected by the US National Center for Health Statistics"
   ]
  },
  {
   "cell_type": "markdown",
   "metadata": {},
   "source": [
    "Once the package is installed you can active it by using:"
   ]
  },
  {
   "cell_type": "code",
   "execution_count": null,
   "metadata": {
    "collapsed": true
   },
   "outputs": [],
   "source": [
    "library(NHANES)\n",
    "#help(NHANES)"
   ]
  },
  {
   "cell_type": "code",
   "execution_count": null,
   "metadata": {
    "collapsed": false
   },
   "outputs": [],
   "source": [
    "head(NHANES) #as NHANES ia a data set we can print it"
   ]
  },
  {
   "cell_type": "markdown",
   "metadata": {},
   "source": [
    "We will now collect the data used in the first lecture:"
   ]
  },
  {
   "cell_type": "code",
   "execution_count": null,
   "metadata": {
    "collapsed": false
   },
   "outputs": [],
   "source": [
    "index <- NHANES$Age > 20 # pick all rows where age is greater then 20.\n",
    "# the data contains NA (not a number which is annoying so lets remove them also)\n",
    "index <- (NHANES$Age > 20) & (rowSums(is.na(NHANES[,c('Weight','Height')]))==0) \n",
    "data <- NHANES[index, c(\"Weight\", \"Height\")] # now removed all data that has NA for either Weight or Height\n",
    "head(data)"
   ]
  },
  {
   "cell_type": "markdown",
   "metadata": {},
   "source": [
    "Let us now explore the Height data and fit a Normal distribution to it."
   ]
  },
  {
   "cell_type": "code",
   "execution_count": null,
   "metadata": {
    "collapsed": false
   },
   "outputs": [],
   "source": [
    "options(repr.plot.width=4, repr.plot.height=3) #adjust figure size for \n",
    "hist(data$Height, breaks = 80, main=\" histogram Height\", xlab='Height',freq=F)"
   ]
  },
  {
   "cell_type": "markdown",
   "metadata": {},
   "source": [
    "The Normal distribution has two parameter: the mean $\\mu$ and standard devation $\\sigma$, thus they need to be fitted from the data:"
   ]
  },
  {
   "cell_type": "code",
   "execution_count": null,
   "metadata": {
    "collapsed": false
   },
   "outputs": [],
   "source": [
    "mu    = mean(data$Height)\n",
    "sigma = sd(data$Height)"
   ]
  },
  {
   "cell_type": "markdown",
   "metadata": {},
   "source": [
    "Now lets examin the fit to the data by comparing the normal density \n",
    "$$f(\\cdot; \\mu,\\sigma)= \\frac{1}{2\\pi \\sigma} \\exp\\left(-\\frac{1}{2\\sigma^2} (\\cdot - \\mu) \\right)^2$$ \n",
    "to the histogram:\n",
    "1. The function seq gives a grid on which we evaulate the density on.\n",
    "2. The normal density can be caculated using function dnorm.\n",
    "3. Finally to draw the lines on top of the histogram we use line rather then plot"
   ]
  },
  {
   "cell_type": "code",
   "execution_count": null,
   "metadata": {
    "collapsed": false
   },
   "outputs": [],
   "source": [
    "grid <- seq(min(data$Height), max(data$Height),length=2000) \n",
    "f <- dnorm(grid, mean= mu, sd = sigma) #f(Y|\\theta) (Y- is vector, \\theta - value )results in a vecctor!\n",
    "hist(data$Height, \n",
    "     breaks = 80, \n",
    "     main=\" histogram Height\", \n",
    "     xlab='Height',freq=F)\n",
    "lines(grid, \n",
    "      f,\n",
    "      col='red',\n",
    "      lwd = 2)"
   ]
  },
  {
   "cell_type": "markdown",
   "metadata": {},
   "source": [
    "The fit is ok, but not perfect as one can see that the normal density, has to much mass near the mean."
   ]
  },
  {
   "cell_type": "markdown",
   "metadata": {},
   "source": [
    "The probability that a person is between 160 to 180 cm can be caculated as follows:"
   ]
  },
  {
   "cell_type": "code",
   "execution_count": null,
   "metadata": {
    "collapsed": false
   },
   "outputs": [],
   "source": [
    "mean(data$Height > 160 & data$Height < 180)"
   ]
  },
  {
   "cell_type": "markdown",
   "metadata": {},
   "source": [
    "Let us compare this to this if we used the fitted Normal distribution instead:\n",
    "\n",
    "Recall that \n",
    "$$\\mathbb{P}( 160 < X < 180;\\mu, \\sigma) = \\mathbb{P}(X < 180;\\mu, \\sigma) - \\mathbb{P}(X < 160;\\mu, \\sigma)= \\int_{160}^{180} f(x;\\mu, \\sigma) dx$$"
   ]
  },
  {
   "cell_type": "code",
   "execution_count": null,
   "metadata": {
    "collapsed": false
   },
   "outputs": [],
   "source": [
    "x = seq(160,180, length = 2000)  \n",
    "dx = (180-160)/2000\n",
    "f <- dnorm(x, mean= mu, sd = sigma)\n",
    "trapz <- sum(dx * f)\n",
    "print(paste(\" trapetz method = \", trapz, sep = \"\")) # formula (4.2) in the book\n",
    "\n",
    "f_int <- integrate(function(x){dnorm(x, mean = mu, sd = sigma)},\n",
    "          lower=160,\n",
    "         upper = 180)[1]\n",
    "print(paste(\" R integration  = \", f_int, sep = \"\")) # using R integrate\n",
    "P180 = pnorm(180, mean = mu, sd = sigma)\n",
    "P160 = pnorm(160, mean = mu, sd = sigma)\n",
    "print(paste(\" pnorm          = \", P180-P160, sep = \"\")) # pnorm is very usefull"
   ]
  },
  {
   "cell_type": "markdown",
   "metadata": {
    "collapsed": true
   },
   "source": [
    " "
   ]
  },
  {
   "cell_type": "markdown",
   "metadata": {},
   "source": [
    " "
   ]
  },
  {
   "cell_type": "markdown",
   "metadata": {},
   "source": [
    " "
   ]
  },
  {
   "cell_type": "markdown",
   "metadata": {},
   "source": [
    "  "
   ]
  },
  {
   "cell_type": "markdown",
   "metadata": {},
   "source": [
    " "
   ]
  },
  {
   "cell_type": "markdown",
   "metadata": {},
   "source": [
    " # Going into two dimensions \n",
    " "
   ]
  },
  {
   "cell_type": "code",
   "execution_count": null,
   "metadata": {
    "collapsed": true
   },
   "outputs": [],
   "source": [
    "#install.packages(\"mvtnorm\")\n",
    "library(mvtnorm)"
   ]
  },
  {
   "cell_type": "code",
   "execution_count": null,
   "metadata": {
    "collapsed": false
   },
   "outputs": [],
   "source": [
    "rho <- 0\n",
    "sigma_x <- 1\n",
    "sigma_y <- 1\n",
    "mu  <- c(0,0)\n",
    "Sigma <- matrix(c(sigma_x^2,  rho * sigma_x * sigma_y, rho * sigma_x * sigma_y,sigma_y^2),nrow=2,ncol=2)\n",
    "print(Sigma)\n",
    "XY <- rmvnorm(100, mean = mu, sigma = Sigma)\n",
    "plot(XY[,1],XY[,2], \n",
    "     xlab='x',\n",
    "     ylab='y', \n",
    "     pch = 20)\n",
    "hist(XY[,1],50,xlab='x',ylab='f_X()',main='')\n",
    "hist(XY[,2],50,xlab='y',ylab='f_Y()',main='')"
   ]
  },
  {
   "cell_type": "code",
   "execution_count": null,
   "metadata": {
    "collapsed": true
   },
   "outputs": [],
   "source": []
  },
  {
   "cell_type": "markdown",
   "metadata": {},
   "source": [
    "We will now study height and weight simultaneously. First we make a 2D histogram of the data. A very nice package for plotting is [ggplot2](http://ggplot2.org/); it has a steep learning curve but is very flexible."
   ]
  },
  {
   "cell_type": "code",
   "execution_count": null,
   "metadata": {
    "collapsed": false
   },
   "outputs": [],
   "source": [
    "#install.packages(\"ggplot2\")"
   ]
  },
  {
   "cell_type": "code",
   "execution_count": null,
   "metadata": {
    "collapsed": true
   },
   "outputs": [],
   "source": [
    "library(ggplot2)\n",
    "library(RColorBrewer)\n",
    "rf <- colorRampPalette(rev(brewer.pal(11,'Spectral')))\n",
    "r <- rf(32)"
   ]
  },
  {
   "cell_type": "code",
   "execution_count": null,
   "metadata": {
    "collapsed": false
   },
   "outputs": [],
   "source": [
    "p <- ggplot(data, aes(Height, Weight))\n",
    "p <- p + stat_bin2d() + stat_bin2d(bins=20) + scale_fill_gradientn(colours=r)\n",
    "p <- p + ylab('Weight')\n",
    "print(p)"
   ]
  },
  {
   "cell_type": "markdown",
   "metadata": {},
   "source": [
    "Here one can see if one is a bit experience one can note that the some weights are to extreme to fit a normal distribution. "
   ]
  },
  {
   "cell_type": "code",
   "execution_count": null,
   "metadata": {
    "collapsed": false
   },
   "outputs": [],
   "source": [
    "Sigma <- cov( data)\n",
    "mu    <- colMeans(data)\n",
    "#install.packages(\"ellipse\")\n",
    "library(ellipse)\n",
    "ellipse_data <- ellipse(Sigma, centre = mu, level = 0.9)\n",
    "ellipse_data <- data.frame(Weight = ellipse_data[,\"Weight\"],\n",
    "                           Height = ellipse_data[,\"Height\"])\n",
    "p <- p + geom_path(aes( x= Height, y = Weight), data = ellipse_data, size=1.5, colour='red')\n",
    "\n",
    "print( p)"
   ]
  },
  {
   "cell_type": "markdown",
   "metadata": {},
   "source": [
    "In this case one can instead transform the data."
   ]
  },
  {
   "cell_type": "code",
   "execution_count": null,
   "metadata": {
    "collapsed": false
   },
   "outputs": [],
   "source": [
    "data$Weight <- log(data$Weight)\n",
    "p <- ggplot(data, aes(Height, Weight))\n",
    "p <- p + stat_bin2d() + stat_bin2d(bins=20) + scale_fill_gradientn(colours=r)\n",
    "p <- p + ylab('log(Weight)')\n",
    "Sigma <- cov( data)\n",
    "mu    <- colMeans(data)\n",
    "ellipse_data <- ellipse(Sigma, centre = mu, level = 0.9)\n",
    "ellipse_data <- data.frame(Weight = ellipse_data[,\"Weight\"],\n",
    "                           Height = ellipse_data[,\"Height\"])\n",
    "p <- p + geom_path(aes( x= Height, y = Weight), data = ellipse_data, size=1.5, colour='red')\n",
    "\n",
    "print( p)"
   ]
  },
  {
   "cell_type": "markdown",
   "metadata": {},
   "source": [
    "## Conditional distributions\n",
    "\n",
    "Now we want to predict the weight of a person that is 170 cm long, assuming log(weight) and height have multivariate Normal distribution. \n"
   ]
  },
  {
   "cell_type": "markdown",
   "metadata": {},
   "source": [
    "If we treat the height as indpendent $\\left(f_{X,Y}(a,b)=f_X(a)f_Y(b) \\right)$, then the best we can do is use $f_X(\\cdot):$"
   ]
  },
  {
   "cell_type": "code",
   "execution_count": null,
   "metadata": {
    "collapsed": false
   },
   "outputs": [],
   "source": [
    "grid <- seq(min(data$Weight), log(150),length=2000) \n",
    "f <- dnorm(grid, mean= mu[1], sd = sqrt(Sigma[1, 1]))\n",
    "plot(grid, \n",
    "      f,\n",
    "     type= 'l',\n",
    "      col='red',\n",
    "      lwd = 1.5,\n",
    "      xlab = 'log(weight)')"
   ]
  },
  {
   "cell_type": "markdown",
   "metadata": {},
   "source": [
    "If we instead use the multivariate distribution, we can instead use the conditional distribution:\n",
    "$$\n",
    "f_{X|Y}(\\cdot| Y = 180),\n",
    "$$\n",
    "Which can be done in R as follows:"
   ]
  },
  {
   "cell_type": "code",
   "execution_count": null,
   "metadata": {
    "collapsed": false
   },
   "outputs": [],
   "source": [
    "install.packages(\"condMVNorm\")\n",
    "library(condMVNorm)"
   ]
  },
  {
   "cell_type": "code",
   "execution_count": null,
   "metadata": {
    "collapsed": false
   },
   "outputs": [],
   "source": [
    "res <- condMVN(X.given       = 180,   # the value of the known index (190cm)\n",
    "               mean          = mu,    # the mean parameter\n",
    "               sigma         = Sigma, # the Covariance matrix\n",
    "               dependent.ind = 1,     # which index we want to generate the density for  (Weight)\n",
    "               given.ind     = 2)     # which index is known  (Height)\n",
    "f_cond <- dnorm(grid, \n",
    "           mean= res$condMean, \n",
    "           sd = res$condVar)\n",
    "plot(grid, \n",
    "     f_cond,\n",
    "     type= 'l',\n",
    "     col='red',\n",
    "     lwd = 1.5,\n",
    "     xlab = 'log(weight)')"
   ]
  },
  {
   "cell_type": "markdown",
   "metadata": {},
   "source": [
    "Putting the two densities in the same figure, transforming the scale."
   ]
  },
  {
   "cell_type": "code",
   "execution_count": null,
   "metadata": {
    "collapsed": false
   },
   "outputs": [],
   "source": [
    "plot(exp(grid), \n",
    "     f,\n",
    "     type= 'l',\n",
    "     col='red',\n",
    "     lwd = 1.5,\n",
    "     xlab = 'weight',\n",
    "     ylim = c(0, max(c(f, f_cond))))\n",
    "lines(exp(grid), \n",
    "     f_cond,\n",
    "     col='blue',\n",
    "     lwd = 1.5)"
   ]
  },
  {
   "cell_type": "code",
   "execution_count": null,
   "metadata": {
    "collapsed": true
   },
   "outputs": [],
   "source": []
  },
  {
   "cell_type": "code",
   "execution_count": null,
   "metadata": {
    "collapsed": true
   },
   "outputs": [],
   "source": []
  }
 ],
 "metadata": {
  "kernelspec": {
   "display_name": "R",
   "language": "R",
   "name": "ir"
  },
  "language_info": {
   "codemirror_mode": "r",
   "file_extension": ".r",
   "mimetype": "text/x-r-source",
   "name": "R",
   "pygments_lexer": "r",
   "version": "3.3.1"
  }
 },
 "nbformat": 4,
 "nbformat_minor": 0
}
